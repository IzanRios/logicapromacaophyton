{
  "nbformat": 4,
  "nbformat_minor": 0,
  "metadata": {
    "colab": {
      "provenance": [],
      "include_colab_link": true
    },
    "kernelspec": {
      "name": "python3",
      "display_name": "Python 3"
    },
    "language_info": {
      "name": "python"
    }
  },
  "cells": [
    {
      "cell_type": "markdown",
      "metadata": {
        "id": "view-in-github",
        "colab_type": "text"
      },
      "source": [
        "<a href=\"https://colab.research.google.com/github/IzanRios/logicapromacaophyton/blob/main/Manipula%C3%A7%C3%A3o%20de%20Strings/Exercicios_juntos_La%C3%A7os%2C_condicionais%2C_listas%2C_tuplas_e_dicion%C3%A1rios_.ipynb\" target=\"_parent\"><img src=\"https://colab.research.google.com/assets/colab-badge.svg\" alt=\"Open In Colab\"/></a>"
      ]
    },
    {
      "cell_type": "markdown",
      "source": [
        "Lista de Exercícios unindo tudo que foi ensinado até o momento:\n",
        "\n",
        "\n",
        "*   Condicionais\n",
        "*   Laços de Reptição\n",
        "*   Listas\n",
        "*   Tuplas\n",
        "*   Dicionários\n",
        "*   Manipulação de Strings\n",
        "\n",
        "\n",
        "\n",
        "\n",
        "\n"
      ],
      "metadata": {
        "id": "JsFcwNObBRcd"
      }
    },
    {
      "cell_type": "markdown",
      "source": [
        "# Tuplas - Acesso e Desempacotamento\n",
        "\n",
        "1) Crie uma tupla contendo três tipos diferentes de dados: um número, uma string e uma lista. Use um laço de repetição para acessar e imprimir cada item da tupla. Além disso, dentro do laço, acesse e imprima o segundo item da lista que está dentro da tupla."
      ],
      "metadata": {
        "id": "HM91bKpkBqGI"
      }
    },
    {
      "cell_type": "code",
      "source": [
        "dados = (24, \"Cíntia\",[1,2,3])\n",
        "\n",
        "for i in dados:\n",
        "  print(i)"
      ],
      "metadata": {
        "colab": {
          "base_uri": "https://localhost:8080/"
        },
        "id": "sCbCOqPVYeRv",
        "outputId": "8ac19c1a-8015-46aa-b4c4-f4b5b3c42cbe"
      },
      "execution_count": 1,
      "outputs": [
        {
          "output_type": "stream",
          "name": "stdout",
          "text": [
            "24\n",
            "Cíntia\n",
            "[1, 2, 3]\n"
          ]
        }
      ]
    },
    {
      "cell_type": "code",
      "source": [
        "dados = (15, \"Ízan\",[1,2,3])\n",
        "\n",
        "for i in dados:\n",
        "  print(i)"
      ],
      "metadata": {
        "colab": {
          "base_uri": "https://localhost:8080/"
        },
        "id": "pZ8TJ7EFYsjg",
        "outputId": "b32db94b-fd14-4183-85b4-34b49fd79e72"
      },
      "execution_count": 2,
      "outputs": [
        {
          "output_type": "stream",
          "name": "stdout",
          "text": [
            "15\n",
            "Ízan\n",
            "[1, 2, 3]\n"
          ]
        }
      ]
    },
    {
      "cell_type": "markdown",
      "source": [
        "# Dicionários - Criação e Acesso\n",
        "## Cadastro de Pessoas e Análise de Alturas\n",
        "2) Solicite ao usuário para inserir o nome e a altura de várias pessoas. Preencha um dicionário com essas informações e depois encontre e imprima o nome e a altura da pessoa mais alta e da mais baixa."
      ],
      "metadata": {
        "id": "6vEHxGtjBxMi"
      }
    },
    {
      "cell_type": "code",
      "source": [
        "pessoas = {}\n",
        "\n",
        "while True:\n",
        "    nome = input(\"Digite o nome da pessoa (ou 'sair' para encerrar): \")\n",
        "    if nome.lower() == 'sair':\n",
        "        break\n",
        "    altura = float(input(f\"Digite a altura de {nome} em metros: \"))\n",
        "    pessoas[nome] = altura\n",
        "if pessoas:\n",
        "    maisalto = max(pessoas, key=pessoas.get)\n",
        "    maisbaixo = min(pessoas, key=pessoas.get)\n",
        "    maisalta = pessoas[maisalto]\n",
        "    maisbaixa = pessoas[maisbaixo]\n",
        "    print(f\"A pessoa mais alta é {maisalto} com {maisalta:.2f} metros.\")\n",
        "    print(f\"A pessoa mais baixa é {maisbaixo} com {maisbaixa:.2f} metros.\")\n",
        "else:\n",
        "    print(\"Nenhuma informação foi inserida.\")"
      ],
      "metadata": {
        "id": "MpJYauvTZR69",
        "outputId": "a0cc163d-5ab3-4148-e520-8a0a5e24b9ad",
        "colab": {
          "base_uri": "https://localhost:8080/"
        }
      },
      "execution_count": 5,
      "outputs": [
        {
          "output_type": "stream",
          "name": "stdout",
          "text": [
            "Digite o nome da pessoa (ou 'sair' para encerrar): Kaio\n",
            "Digite a altura de Kaio em metros: 1.80\n",
            "Digite o nome da pessoa (ou 'sair' para encerrar): Julia\n",
            "Digite a altura de Julia em metros: 1.65\n",
            "Digite o nome da pessoa (ou 'sair' para encerrar): Maria\n",
            "Digite a altura de Maria em metros: 1.70\n",
            "Digite o nome da pessoa (ou 'sair' para encerrar): Lucas\n",
            "Digite a altura de Lucas em metros: 1.86\n",
            "Digite o nome da pessoa (ou 'sair' para encerrar): Isabely\n",
            "Digite a altura de Isabely em metros: 1.57\n",
            "Digite o nome da pessoa (ou 'sair' para encerrar): sair\n",
            "A pessoa mais alta é Lucas com 1.86 metros.\n",
            "A pessoa mais baixa é Isabely com 1.57 metros.\n"
          ]
        }
      ]
    },
    {
      "cell_type": "markdown",
      "source": [
        "# Lista, laços e Condicionais\n",
        "3) Descrição: Crie uma listacom cinco números inteiros. Use um laço de repetição e uma condicional para imprimir apenas os números que são múltiplos de 3."
      ],
      "metadata": {
        "id": "FytD4QZyELAt"
      }
    },
    {
      "cell_type": "code",
      "source": [
        "numeros = [1, 2, 3, 4, 5]\n",
        "\n",
        "for i in numeros:\n",
        "  if i % 3 == 0:\n",
        "    print(i)"
      ],
      "metadata": {
        "id": "ktfL0Xd7fkmH",
        "outputId": "dc8f95f9-27ca-44c5-e1fd-e89e72c07f3a",
        "colab": {
          "base_uri": "https://localhost:8080/"
        }
      },
      "execution_count": 6,
      "outputs": [
        {
          "output_type": "stream",
          "name": "stdout",
          "text": [
            "3\n"
          ]
        }
      ]
    },
    {
      "cell_type": "markdown",
      "source": [
        "# Manipulação de Strings e Condicionais\n",
        "4) Descrição: Crie uma string com uma frase. Use uma condicional para verificar se a frase contém a palavra \"Python\". Se sim, substitua a palavra \"Python\" por \"programação\" e imprima a nova frase."
      ],
      "metadata": {
        "id": "hwn3Fz8aEYSH"
      }
    },
    {
      "cell_type": "code",
      "source": [
        "frase = \"Eu estou aprendendo Python\"\n",
        "\n",
        "if \"Python\" in frase:\n",
        "  novafrase = frase.replace(\"Python\", \"programação\")\n",
        "  print(novafrase)"
      ],
      "metadata": {
        "id": "aoSoji2Jf_Cw",
        "outputId": "9c8dee73-349d-44d4-f0bd-0537c5ee32a3",
        "colab": {
          "base_uri": "https://localhost:8080/"
        }
      },
      "execution_count": 8,
      "outputs": [
        {
          "output_type": "stream",
          "name": "stdout",
          "text": [
            "Eu estou aprendendo programação\n"
          ]
        }
      ]
    },
    {
      "cell_type": "markdown",
      "source": [
        "# Simulação de Alfândega com Cadastro Dinâmico de Itens usando dicionário\n",
        "5) Simule uma situação de alfândega onde o funcionário cadastra itens novos encontrados na mala de uma pessoa que veio de uma viagem internacional. Após o cadastro de todos os itens, o programa imprime uma nota com todos os itens e seus preços, calcula o valor total e, se o valor total ultrapassar 500 dólares, calcula o valor de 60% a ser pago."
      ],
      "metadata": {
        "id": "hPP-JNTxEwFT"
      }
    },
    {
      "cell_type": "code",
      "source": [
        "def cadastraritens():\n",
        "    itens = {}\n",
        "    while True:\n",
        "        nomeitem = input(\"Digite o nome do item (ou 'fim' para terminar): \")\n",
        "        if nomeitem.lower() == 'fim':\n",
        "            break\n",
        "        precoitem = float(input(f\"Digite o preço do {nomeitem}: \"))\n",
        "        itens[nomeitem] = precoitem\n",
        "    return itens\n",
        "\n",
        "def calcularvalortotal(itens):\n",
        "    return sum(itens.values())\n",
        "\n",
        "def calcularvalorapagar(total):\n",
        "    if total > 500:\n",
        "        return total * 0.60\n",
        "    else:\n",
        "        return 0\n",
        "\n",
        "def imprimirnota(itens):\n",
        "    print(\"\\nNota Fiscal:\")\n",
        "    for item, preco in itens.items():\n",
        "        print(f\"{item}: ${preco:.2f}\")\n",
        "\n",
        "    valortotal = calcularvalortotal(itens)\n",
        "    print(f\"\\nValor total: ${valortotal:.2f}\")\n",
        "\n",
        "    valorapagar = calcularvalorapagar(valortotal)\n",
        "    if valorapagar > 0:\n",
        "        print(f\"Valor a pagar (60%): ${valorapagar:.2f}\")\n",
        "    else:\n",
        "        print(\"Nenhum valor a pagar.\")\n",
        "\n",
        "def main():\n",
        "    print(\"Bem-vindo ao sistema de cadastro de itens da alfândega.\")\n",
        "    itens = cadastraritens()\n",
        "    imprimirnota(itens)\n",
        "\n",
        "if __name__ == \"__main__\":\n",
        "    main()\n"
      ],
      "metadata": {
        "id": "sj7Pn_Fvg8Am",
        "outputId": "c7b726a9-8356-421b-95eb-a0c89e39ee24",
        "colab": {
          "base_uri": "https://localhost:8080/"
        }
      },
      "execution_count": 11,
      "outputs": [
        {
          "output_type": "stream",
          "name": "stdout",
          "text": [
            "Bem-vindo ao sistema de cadastro de itens da alfândega.\n",
            "Digite o nome do item (ou 'fim' para terminar): Bola\n",
            "Digite o preço do Bola: 100.00\n",
            "Digite o nome do item (ou 'fim' para terminar): Camisa Corinthians\n",
            "Digite o preço do Camisa Corinthians: 200.00\n",
            "Digite o nome do item (ou 'fim' para terminar): Chuteira Nike\n",
            "Digite o preço do Chuteira Nike: 550.00\n",
            "Digite o nome do item (ou 'fim' para terminar): Neymar\n",
            "Digite o preço do Neymar: 300000000.00\n",
            "Digite o nome do item (ou 'fim' para terminar): fim\n",
            "\n",
            "Nota Fiscal:\n",
            "Bola: $100.00\n",
            "Camisa Corinthians: $200.00\n",
            "Chuteira Nike: $550.00\n",
            "Neymar: $300000000.00\n",
            "\n",
            "Valor total: $300000850.00\n",
            "Valor a pagar (60%): $180000510.00\n"
          ]
        }
      ]
    },
    {
      "cell_type": "markdown",
      "source": [
        "# Identificação de Palavras Negativas em um Texto\n",
        "6) Você vai criar um programa em Python para analisar um texto e identificar palavras que expressam pensamentos negativos. Para isso, você usará uma lista de palavras negativas fornecida e verificará quais dessas palavras estão presentes no texto fornecido pelo usuário. Exemplo de palavras negtivas, acrescente mais na lista: # Lista de palavras negativas palavras_negativas = ['triste', 'deprimido', 'ansioso', 'desapontado', 'frustrado']"
      ],
      "metadata": {
        "id": "OH8D047zVsp-"
      }
    },
    {
      "cell_type": "code",
      "source": [
        "lista = ['triste', 'deprimido', 'ansioso', 'desapontado', 'frustrado']\n",
        "\n",
        "texto = input(\"Digite um texto: \")\n",
        "\n",
        "for i in lista:\n",
        "  if i in texto:\n",
        "    print(f\"A palavra {i} está no texto\")\n",
        "  else:\n",
        "      print(f\"A palavra {i} não está no texto\")"
      ],
      "metadata": {
        "id": "xDSrYWf_Vr8G",
        "outputId": "f95e6038-8e79-47d3-dcad-a8d9127bbe1b",
        "colab": {
          "base_uri": "https://localhost:8080/"
        }
      },
      "execution_count": 10,
      "outputs": [
        {
          "output_type": "stream",
          "name": "stdout",
          "text": [
            "Digite um texto: Pensamentos negativos são como nuvens escuras que obscurecem nossa visão do mundo, criando uma névoa de incerteza e insegurança. Sentimentos como estar triste, a frustração constante e a autocrítica severa frequentemente surgem desses pensamentos, tornando difícil enxergar qualquer perspectiva positiva. A tristeza pode se manifestar como uma sensação de vazio ou desamparo, enquanto a frustração pode vir da percepção de que nossos esforços são em vão ou que nossos objetivos estão sempre fora de alcance. Esses sentimentos muitas vezes são alimentados por experiências passadas dolorosas ou expectativas não correspondidas. Contudo, reconhecer que esses sentimentos são apenas uma parte de nossa mente e não a realidade absoluta é o primeiro passo para superá-los. Cultivar uma mentalidade positiva e buscar apoio pode ajudar a dissipar essas nuvens, permitindo que a luz da esperança e da clareza brilhe novamente em nossas vidas.\n",
            "A palavra triste está no texto\n",
            "A palavra deprimido não está no texto\n",
            "A palavra ansioso não está no texto\n",
            "A palavra desapontado não está no texto\n",
            "A palavra frustrado não está no texto\n"
          ]
        }
      ]
    }
  ]
}